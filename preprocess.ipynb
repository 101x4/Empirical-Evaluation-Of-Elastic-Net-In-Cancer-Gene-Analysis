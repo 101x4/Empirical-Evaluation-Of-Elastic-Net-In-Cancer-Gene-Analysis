{
  "nbformat": 4,
  "nbformat_minor": 2,
  "metadata": {
    "colab": {
      "name": "BRCA.ipynb",
      "provenance": [],
      "collapsed_sections": [],
      "machine_shape": "hm"
    },
    "kernelspec": {
      "display_name": "Python 3",
      "name": "python3"
    }
  },
  "cells": [
    {
      "cell_type": "code",
      "execution_count": null,
      "source": [
        "!curl -s https://packagecloud.io/install/repositories/github/git-lfs/script.deb.sh | sudo bash"
      ],
      "outputs": [],
      "metadata": {
        "id": "XwNausCFmXxz"
      }
    },
    {
      "cell_type": "code",
      "execution_count": null,
      "source": [
        "!sudo apt-get install git-lfs"
      ],
      "outputs": [],
      "metadata": {
        "id": "_LJugfZAm0kU"
      }
    },
    {
      "cell_type": "code",
      "execution_count": null,
      "source": [
        "!git lfs clone https://github.com/101x4/pancancer.git"
      ],
      "outputs": [],
      "metadata": {
        "id": "GkhtdNBpmz0f"
      }
    },
    {
      "cell_type": "code",
      "execution_count": null,
      "source": [
        "pip install dask_searchcv"
      ],
      "outputs": [],
      "metadata": {
        "id": "G1NOtoRSoVJW"
      }
    },
    {
      "cell_type": "code",
      "execution_count": null,
      "source": [
        "import os\n",
        "import sys\n",
        "import seaborn as sns\n",
        "import pandas as pd\n",
        "import csv\n",
        "import matplotlib.pyplot as plt\n",
        "\n",
        "\n",
        "from sklearn.linear_model import SGDClassifier\n",
        "from sklearn.model_selection import train_test_split\n",
        "from sklearn.model_selection import GridSearchCV\n",
        "from sklearn.pipeline import Pipeline\n",
        "from sklearn.preprocessing import StandardScaler\n",
        "from statsmodels.robust.scale import mad\n",
        "# change working directory\n",
        "os.chdir('pancancer/data/')"
      ],
      "outputs": [],
      "metadata": {
        "id": "gAIJ0CdHoY4u"
      }
    },
    {
      "cell_type": "code",
      "execution_count": 6,
      "source": [
        "import os\n",
        "import sys\n",
        "import seaborn as sns\n",
        "import pandas as pd\n",
        "import csv\n",
        "import matplotlib.pyplot as plt\n",
        "\n",
        "\n",
        "from sklearn.linear_model import SGDClassifier\n",
        "from sklearn.model_selection import train_test_split\n",
        "from sklearn.preprocessing import StandardScaler\n",
        "from statsmodels.robust.scale import mad\n",
        "\n",
        "# load data\n",
        "copy_loss_df = pd.read_table('copy_number_loss_status.tsv.gz', index_col=0, engine='c')   # copy loss\n",
        "mutation_df = pd.read_table('pancan_mutation_freeze.tsv.gz', index_col=0, engine='c')     # mutation 0/1\n",
        "rnaseq_full_df = pd.read_table('pancan_rnaseq_freeze.tsv.gz', index_col=0, engine='c')    # RNA-seq\n",
        "sample_freeze = pd.read_table('sample_freeze.tsv', index_col=0, engine='c')               # patients\n",
        "mut_burden = pd.read_table('mutation_burden_freeze.tsv', engine='c')                      # mutation float\n",
        "cancer_genes = pd.read_table('vogelstein_cancergenes.tsv')                                # gene data     \n",
        "\n"
      ],
      "outputs": [],
      "metadata": {
        "id": "5vqCS4Pu4IGr"
      }
    },
    {
      "cell_type": "code",
      "execution_count": 7,
      "source": [
        "#integrate copy number and genes\n",
        "def integrate_copy_number(y, cancer_genes_df, genes, loss_df):\n",
        "    genes_sub = cancer_genes_df[cancer_genes_df['Gene Symbol'].isin(genes)]\n",
        "    tumor_suppressor = genes_sub[genes_sub['Classification*'] == 'TSG']\n",
        "    copy_loss_sub = loss_df[tumor_suppressor['Gene Symbol']]\n",
        "    copy_loss_sub.columns = [col + '_loss' for col in copy_loss_sub.columns]\n",
        "    y = y.join(copy_loss_sub)\n",
        "    y = y.fillna(0)\n",
        "    y = y.astype(int)\n",
        "    return y"
      ],
      "outputs": [],
      "metadata": {
        "id": "zO4DOOvbkmTI"
      }
    },
    {
      "cell_type": "code",
      "execution_count": 11,
      "source": [
        "# choose target gene\n",
        "x = ['TP53']\n",
        "# TP53 deleterious mutation\n",
        "y = mutation_df[x]\n",
        "# combine copy loss\n",
        "y = integrate_copy_number(y=y, cancer_genes_df=cancer_genes, genes=x, loss_df=copy_loss_df)\n",
        "#total status\n",
        "y = y.assign(total_status=y.max(axis=1))\n",
        "y = y.reset_index().merge(sample_freeze, how='left').set_index('SAMPLE_BARCODE')\n",
        "sum_df = y.groupby('DISEASE').sum()\n",
        "dive = sum_df.divide(y['DISEASE'].value_counts(sort=False).sort_index(),axis=0)\n",
        "#disease selection\n",
        "dise_sele = (sum_df['total_status']> 15) & (dive['total_status'] > 0.05)\n",
        "diseases = dise_sele.index[dise_sele].tolist()\n",
        "y_df = y[y.DISEASE.isin(diseases)].total_status                                                # final inactivation\n",
        "y_df = y_df.loc[list(set(y_df.index) & set(rnaseq_full_df.index))]\n",
        "# filter rna\n",
        "rna = rnaseq_full_df.loc[y_df.index, :]\n",
        "# delete hypermutaion\n",
        "new_mut_burden = mut_burden[mut_burden['log10_mut'] < 5 * mut_burden['log10_mut'].std()]\n",
        "y_temp = new_mut_burden.merge(pd.DataFrame(y_df), right_index=True, left_on='SAMPLE_BARCODE').set_index('SAMPLE_BARCODE')\n",
        "\n",
        "y_sub = y.loc[y_temp.index]['DISEASE']  # sample - cancer\n",
        "covar_dummy = pd.get_dummies(sample_freeze['DISEASE']).astype(int)\n",
        "\n",
        "covar_dummy.index = sample_freeze['SAMPLE_BARCODE']\n",
        "\n",
        "covar = covar_dummy.merge(y_temp, right_index=True, left_index=True)\n",
        "covar = covar.drop('total_status', axis=1)\n",
        "y_df = y_df.loc[y_sub.index]\n",
        "strat = y_sub.str.cat(y_df.astype(str))   # gene status 0-1\n",
        "\n"
      ],
      "outputs": [],
      "metadata": {
        "id": "36E3T7yQ8HQr"
      }
    },
    {
      "cell_type": "code",
      "execution_count": null,
      "source": [
        "# genes\n",
        "x_df = rna.loc[y_df.index, :]\n",
        "#MAD\n",
        "med_dev = pd.DataFrame(mad(x_df), index=x_df.columns)\n",
        "mad_genes = med_dev.sort_values(by=0, ascending=False).iloc[0:8000].index.tolist()\n",
        "x_df = x_df.loc[:, mad_genes]\n",
        "# standard\n",
        "fitted_scaler = StandardScaler().fit(x_df)\n",
        "x_df_update = pd.DataFrame(fitted_scaler.transform(x_df), columns=x_df.columns)\n",
        "x_df_update.index = x_df.index\n",
        "x_df = x_df_update.merge(covar, left_index=True, right_index=True)\n",
        "\n",
        "\n",
        "# train test\n",
        "x_train, x_test, y_train, y_test = train_test_split(x_df, y_df, test_size=0.1, random_state=0, stratify=strat)\n",
        "\n"
      ],
      "outputs": [],
      "metadata": {}
    },
    {
      "cell_type": "code",
      "execution_count": null,
      "source": [
        "#save data\n",
        "x_train.to_csv(\"xtrain.csv\")\n",
        "x_test.to_csv(\"xtest.csv\")\n",
        "y_train.to_csv(\"ytrain.csv\")\n",
        "y_test.to_csv(\"ytest.csv\")"
      ],
      "outputs": [],
      "metadata": {
        "id": "kxn3sbp8-acO"
      }
    }
  ]
}